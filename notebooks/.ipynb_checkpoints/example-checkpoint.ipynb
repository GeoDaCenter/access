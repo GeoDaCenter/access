{
 "cells": [
  {
   "cell_type": "markdown",
   "metadata": {},
   "source": [
    "##SAMPLE CODE FOR CALLING FCA METHODS FROM ACCESS"
   ]
  },
  {
   "cell_type": "code",
   "execution_count": null,
   "metadata": {},
   "outputs": [],
   "source": [
    "#import the access class and pandas (for dataframe cleanup later)\n",
    "import sys \n",
    "sys.path.append(\"..\") #this is included so that you can run this notebook from this folder\n",
    "\n",
    "from access import *\n",
    "import pandas as pd\n",
    "\n",
    "#read in the times, pops, docs files for Illinois\n",
    "times = pd.read_csv(\"~/Downloads/timesfinal.csv\", header = None, names = ['origin','dest','cost'])\n",
    "pops = pd.read_csv(\"~/Downloads/popfinal.csv\", header = None, names = ['geoid','demand','region'])\n",
    "docs = pd.read_csv(\"~/Downloads/docfinal.csv\", header = None, names = ['geoid','supply','region'])\n",
    "pops = pops[['geoid','demand']]  \n",
    "docs = docs[['geoid','supply']] "
   ]
  },
  {
   "cell_type": "code",
   "execution_count": null,
   "metadata": {},
   "outputs": [],
   "source": [
    "#pre-process times and docs dataframes\n",
    "\n",
    "#@postcondition:  adds self times and removes duplicates from costs\n",
    "def cleanUpCosts(costs, maxCost = 30, demand = None):\n",
    "    if demand is not None:     \n",
    "        validOrigins = list(demand['geoid'])\n",
    "        additionalSelfTimes = pd.DataFrame({'origin': validOrigins, 'dest': validOrigins, 'cost': [0] * len(validOrigins)})\n",
    "        costs = pd.concat([costs, additionalSelfTimes], ignore_index = True)\n",
    "        costs = costs[(costs['cost'] < maxCost)]\n",
    "    costs.sort_values('dest', inplace = True)\n",
    "    costs = costs[(costs['cost'] < maxCost)]\n",
    "    costs.drop_duplicates(inplace = True)\n",
    "    return costs\n",
    "\n",
    "#miscellaneous clean-up\n",
    "max_cost = 30\n",
    "times = times[(times['cost'] < max_cost)]\n",
    "times.sort_values('dest', inplace = True)\n",
    "docs = docs[docs['supply'] != 0]\n",
    "validOrigins = list(pops['geoid'])\n",
    "additionalSelfTimes = pd.DataFrame({'origin': validOrigins, 'dest': validOrigins, 'cost': [0] * len(validOrigins)})\n",
    "times = pd.concat([times, additionalSelfTimes], ignore_index = True)\n",
    "times = cleanUpCosts(times, max_cost, pops)"
   ]
  },
  {
   "cell_type": "code",
   "execution_count": null,
   "metadata": {},
   "outputs": [],
   "source": [
    "#create access object\n",
    "tester = access(demand_df = pops, demand_value = 'demand', supply_df = docs, supply_value = 'supply',\n",
    "                 demand_index = True, supply_index = True,\n",
    "                 cost_df = times, cost_origin = 'origin', cost_dest = 'dest', cost_name = 'cost',\n",
    "                 neighbor_cost_df = times, neighbor_cost_origin = 'dest', neighbor_cost_dest = 'origin', neighbor_cost_name = 'cost')\n",
    "\n",
    "#base FCA\n",
    "fca_ratio_series = tester.fca_ratio(max_cost = 30)\n",
    "\n",
    "#two stage fca\n",
    "two_stage_fca_series = tester.two_stage_fca(max_cost = 30)\n",
    "\n",
    "#stepwise weight dictionaries\n",
    "d = {10 : 1, 20 : 0.68, 30 : 0.22}\n",
    "d_3Stage = {10 : 0.962, 20 : 0.704, 30 : 0.377, 60 : 0.042}\n",
    "#create the weighting function\n",
    "fn = weights.step_fn(d)\n",
    "\n",
    "#should be normalized and weighted\n",
    "print (tester.enhanced_two_stage_fca(max_cost = 30, normalize = True))\n",
    "#should be raw values of base fca\n",
    "print (tester.fca_ratio(max_cost = 30))\n",
    "#should be weighted \n",
    "print (tester.three_stage_fca(max_cost = 30))\n",
    "\n",
    "#should print all three access columns\n",
    "print (tester.norm_access_df)"
   ]
  },
  {
   "cell_type": "code",
   "execution_count": null,
   "metadata": {},
   "outputs": [],
   "source": []
  }
 ],
 "metadata": {
  "kernelspec": {
   "display_name": "Python 3",
   "language": "python",
   "name": "python3"
  },
  "language_info": {
   "codemirror_mode": {
    "name": "ipython",
    "version": 3
   },
   "file_extension": ".py",
   "mimetype": "text/x-python",
   "name": "python",
   "nbconvert_exporter": "python",
   "pygments_lexer": "ipython3",
   "version": "3.7.3"
  }
 },
 "nbformat": 4,
 "nbformat_minor": 2
}
