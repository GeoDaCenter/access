{
 "cells": [
  {
   "cell_type": "markdown",
   "metadata": {},
   "source": [
    "##SAMPLE CODE FOR CALLING FCA METHODS FROM ACCESS"
   ]
  },
  {
   "cell_type": "markdown",
   "metadata": {},
   "source": [
    "## Load in your demand, supply, and costs files"
   ]
  },
  {
   "cell_type": "code",
   "execution_count": null,
   "metadata": {},
   "outputs": [],
   "source": [
    "#import the access class and pandas (for dataframe cleanup later)\n",
    "import sys \n",
    "sys.path.append(\"..\") #this is included so that you can run this notebook from this folder\n",
    "\n",
    "from access import *\n",
    "import pandas as pd\n",
    "\n",
    "#read in the times, pops, docs files for Illinois\n",
    "times = pd.read_csv(\"~/Downloads/timesfinal.csv\", header = None, names = ['origin','dest','cost'])\n",
    "pops = pd.read_csv(\"~/Downloads/popfinal.csv\", header = None, names = ['geoid','demand','region'])\n",
    "docs = pd.read_csv(\"~/Downloads/docfinal.csv\", header = None, names = ['geoid','supply','region'])\n",
    "pops = pops[['geoid','demand']]  \n",
    "docs = docs[['geoid','supply']] "
   ]
  },
  {
   "cell_type": "markdown",
   "metadata": {},
   "source": [
    "## Pre-process your costs dataframe (times) and your supply dataframe (docs)"
   ]
  },
  {
   "cell_type": "code",
   "execution_count": null,
   "metadata": {},
   "outputs": [],
   "source": [
    "#@postcondition:  adds self times and removes duplicates from costs\n",
    "def cleanUpCosts(costs, maxCost = 30, demand = None):\n",
    "    if demand is not None:     \n",
    "        validOrigins = list(demand['geoid'])\n",
    "        additionalSelfTimes = pd.DataFrame({'origin': validOrigins, 'dest': validOrigins, 'cost': [0] * len(validOrigins)})\n",
    "        costs = pd.concat([costs, additionalSelfTimes], ignore_index = True)\n",
    "        costs = costs[(costs['cost'] < maxCost)]\n",
    "    costs.sort_values('dest', inplace = True)\n",
    "    costs = costs[(costs['cost'] < maxCost)]\n",
    "    costs.drop_duplicates(inplace = True)\n",
    "    return costs\n",
    "\n",
    "#miscellaneous clean-up\n",
    "max_cost = 30\n",
    "times = times[(times['cost'] < max_cost)]\n",
    "times.sort_values('dest', inplace = True)\n",
    "docs = docs[docs['supply'] != 0]\n",
    "validOrigins = list(pops['geoid'])\n",
    "additionalSelfTimes = pd.DataFrame({'origin': validOrigins, 'dest': validOrigins, 'cost': [0] * len(validOrigins)})\n",
    "times = pd.concat([times, additionalSelfTimes], ignore_index = True)\n",
    "times = cleanUpCosts(times, max_cost, pops)\n",
    "docs.set_index('geoid', inplace = True)\n",
    "pops.set_index('geoid', inplace = True)"
   ]
  },
  {
   "cell_type": "markdown",
   "metadata": {},
   "source": [
    "## Call fca, two-stage, enhanced two-stage, three-stage, using normalization/weighting features"
   ]
  },
  {
   "cell_type": "code",
   "execution_count": null,
   "metadata": {},
   "outputs": [],
   "source": [
    "#create access object\n",
    "tester = access(demand_df = pops, demand_value = 'demand', \n",
    "                supply_df = docs, supply_value = 'supply',\n",
    "                demand_index = True, supply_index = True,\n",
    "                cost_df = times, cost_origin = 'origin', cost_dest = 'dest', cost_name = 'cost',\n",
    "                neighbor_cost_df = times, neighbor_cost_origin = 'dest', \n",
    "                neighbor_cost_dest = 'origin', neighbor_cost_name = 'cost')\n",
    "\n",
    "#stepwise weight dictionaries\n",
    "d = {10 : 1, 20 : 0.68, 30 : 0.22}\n",
    "d_3Stage = {10 : 0.962, 20 : 0.704, 30 : 0.377, 60 : 0.042}\n",
    "\n",
    "\n",
    "#create the weighting function\n",
    "fn = weights.step_fn(d)\n",
    "\n",
    "\n",
    "#UNCOMMENT LINE BELOW for base FCA\n",
    "# fca_ratio_series = tester.fca_ratio(max_cost = 30)\n",
    "\n",
    "#UNCOMMENT LINE BELOW for two stage FCA\n",
    "# two_stage_fca_series = tester.two_stage_fca(max_cost = 30)\n",
    "\n",
    "\n",
    "\n",
    "\n",
    "#UNCOMMENT LINE BELOW for E2SFCA normalized and weighted\n",
    "print (tester.enhanced_two_stage_fca(max_cost = 30, normalize = True))\n",
    "\n",
    "#UNCOMMENT LINE BELOW for raw values of base fca\n",
    "print (tester.fca_ratio(max_cost = 30))\n",
    "\n",
    "#UNCOMMENT LINE BELOW for 3SFCA\n",
    "print (tester.three_stage_fca(max_cost = 30))\n",
    "\n",
    "#UNCOMMENT LINE BELOW for all three access columns, normalized\n",
    "print (tester.norm_access_df)"
   ]
  },
  {
   "cell_type": "markdown",
   "metadata": {},
   "source": [
    "## Euclidean distances tests"
   ]
  },
  {
   "cell_type": "code",
   "execution_count": null,
   "metadata": {},
   "outputs": [],
   "source": [
    "\n",
    "#load in shapefile\n",
    "geofile = \"~/Downloads/cb_2018_17_tract_500k/cb_2018_17_tract_500k.shp\"\n",
    "gdf = gpd.read_file(geofile)\n",
    "gdf = gdf.to_crs(epsg = 3528)\n",
    "\n",
    "#prepare geodataframe for merging\n",
    "gdf.set_index((gdf.STATEFP + gdf.COUNTYFP + gdf.TRACTCE).astype(int), inplace = True)\n",
    "\n",
    "#modify demand and supply dataframes (pops and docs) to geodataframes with geometries\n",
    "#WARNING: the demand_df (eucl_pops) and supply_df (eucl_docs) has the tracts included within the geofile you loaded in. \n",
    "#         In this case, since this geofile has 3121 tracts, the demand_df (eucl_pops) has 3121 tracts\n",
    "eucl_pops = gdf[['geometry']].join(pops)\n",
    "eucl_docs = gdf[['geometry']].join(docs)\n",
    "eucl_pops.index.name = 'geoid'\n",
    "eucl_docs.index.name = 'geoid'\n",
    "\n",
    "#create access object WITHOUT COSTS\n",
    "tester_eucl = access(demand_df = eucl_pops, demand_value = 'demand', \n",
    "                     supply_df = eucl_docs, supply_value = 'supply',\n",
    "                     demand_index = True, supply_index = True,\n",
    "                     #cost_df = times, cost_origin = 'origin', cost_dest = 'dest', cost_name = 'cost',\n",
    "                     neighbor_cost_df = times, neighbor_cost_origin = 'origin', \n",
    "                     neighbor_cost_dest = 'dest', neighbor_cost_name = 'cost'\n",
    "               )\n",
    "\n",
    "#calculate euclidean distances FOR POLYGONS\n",
    "tester_eucl.euclidean_distance(threshold = 20000 , centroid_o = False, centroid_d = False)\n",
    "#UNCOMMENT BELOW for neighbors\n",
    "#tester_eucl.euclidean_distance_neighbors(threshold = 20000 , centroid = False)\n",
    "\n",
    "#base FCA using euclidean distance and euclidean distance neighbors\n",
    "#print (tester_eucl.fca_ratio(max_cost = 20000))\n",
    "\n",
    "#calculate the correlation\n",
    "correlation_df = tester.cost_df.merge(tester_eucl.cost_df,how = 'outer', on = ['origin', 'dest'])\n",
    "print (correlation_df[['cost', 'euclidean']].corr())\n",
    "\n",
    "#WARNING WARNING\n",
    "#CALLING THIS IS USELESS BECAUSE THE DEFAULT WEIGHTS DICTIONARY IN ENHANCED TWO STAGE IS DESIGNED FOR TIMES IN UNIT MINUTES, NOT DISTANCES IN UNIT METERS\n",
    "#IF YOU CALL IT LIKE THIS USING EUCLIDEAN DISTANCES, THE DEFAULT WEIGHTS DICTIONARY(WHICH GOES UP TO 30) WILL APPLY TO YOUR DISTANCES (VALUES IN THE THOUSANDS), ENSURING THAT YOU'RE ONLY LOOKING AT DISTANCES LESS THAN 30 METERS..  (basically 0 distance)\n",
    "#print (tester_eucl.enhanced_two_stage_fca(max_cost = 5000))\n",
    "\n",
    "\n",
    "#Whenever you call enhanced, the max_cost parameter must be less than or equal to the max key of the weighting dictionary. Having a larger max_cost is misleading and leads to a nonsensical two_stage or three_stage method call\n",
    "#This is extended a step further when you have euclidean distances. In euclidean_distances() the threshold parameter acts the same as the max key of the weighting dictionary.\n",
    "print (tester_eucl.enhanced_two_stage_fca(weight_fn = weights.step_fn({5000 : 1, 10000 : 0.68, 20000 : 0.22}), max_cost = 5000))\n",
    "\n",
    "#add these below as desired\n",
    "#print (tester_eucl.three_stage_fca(weight_fn = weights.step_fn({5000 : 1, 10000 : 0.68, 20000 : 0.22}), max_cost = 20000))\n",
    "\n",
    "#print (tester_eucl.norm_access_df)"
   ]
  },
  {
   "cell_type": "code",
   "execution_count": null,
   "metadata": {},
   "outputs": [],
   "source": []
  }
 ],
 "metadata": {
  "kernelspec": {
   "display_name": "Python 3",
   "language": "python",
   "name": "python3"
  },
  "language_info": {
   "codemirror_mode": {
    "name": "ipython",
    "version": 3
   },
   "file_extension": ".py",
   "mimetype": "text/x-python",
   "name": "python",
   "nbconvert_exporter": "python",
   "pygments_lexer": "ipython3",
   "version": "3.7.3"
  }
 },
 "nbformat": 4,
 "nbformat_minor": 2
}
