{
 "cells": [
  {
   "cell_type": "code",
   "execution_count": null,
   "metadata": {},
   "outputs": [],
   "source": [
    "import sys \n",
    "sys.path.append(\"..\")\n",
    "from access import *\n",
    "import pandas as pd\n",
    "\n",
    "#read in the times, pops, docs files for Illinois\n",
    "times = pd.read_csv(\"D://code//CDAC//RAAM//il_raam_times.csv\")\n",
    "pops = pd.read_csv(\"D://code//CDAC//RAAM//il_pop.csv\")\n",
    "docs = pd.read_csv(\"D://code//CDAC//RAAM//il_doc.csv\")\n",
    "pops = pops[['geoid','demand']]  \n",
    "docs = docs[['geoid','supply']]"
   ]
  },
  {
   "cell_type": "code",
   "execution_count": null,
   "metadata": {},
   "outputs": [],
   "source": [
    "#create access object\n",
    "tester = access(demand_df = pops, demand_value = 'demand', supply_df = docs, supply_value = 'supply',\n",
    "                 demand_index = True, supply_index = True,\n",
    "                 cost_df = times, cost_origin = 'origin', cost_dest = 'dest', cost_name = 'cost',\n",
    "                 neighbor_cost_df = times, neighbor_cost_origin = 'dest', neighbor_cost_dest = 'origin', neighbor_cost_name = 'cost')\n",
    "\n",
    "raam_df = tester.raam()"
   ]
  },
  {
   "cell_type": "code",
   "execution_count": null,
   "metadata": {},
   "outputs": [],
   "source": []
  }
 ],
 "metadata": {
  "kernelspec": {
   "display_name": "Python 3",
   "language": "python",
   "name": "python3"
  },
  "language_info": {
   "codemirror_mode": {
    "name": "ipython",
    "version": 3
   },
   "file_extension": ".py",
   "mimetype": "text/x-python",
   "name": "python",
   "nbconvert_exporter": "python",
   "pygments_lexer": "ipython3",
   "version": "3.7.3"
  }
 },
 "nbformat": 4,
 "nbformat_minor": 2
}
