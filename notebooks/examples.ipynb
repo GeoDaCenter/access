{
 "cells": [
  {
   "cell_type": "markdown",
   "metadata": {},
   "source": [
    "### Load the package."
   ]
  },
  {
   "cell_type": "code",
   "execution_count": 36,
   "metadata": {},
   "outputs": [
    {
     "name": "stdout",
     "output_type": "stream",
     "text": [
      "The autoreload extension is already loaded. To reload it, use:\n",
      "  %reload_ext autoreload\n"
     ]
    }
   ],
   "source": [
    "%load_ext autoreload\n",
    "%autoreload 2"
   ]
  },
  {
   "cell_type": "code",
   "execution_count": 37,
   "metadata": {},
   "outputs": [],
   "source": [
    "import sys; sys.path.append(\"..\") # clean up with a correct install....\n",
    "\n",
    "from access import *\n",
    "\n",
    "import pandas as pd\n",
    "import geopandas as gpd"
   ]
  },
  {
   "cell_type": "markdown",
   "metadata": {},
   "source": [
    "### Load the examples data.\n",
    "\n",
    "The single example file contains demand (population) and multiple supplies (primary care physicians and dentists) on a single location index (the 2010 Census Tract's FIPS code / geoid).\n",
    "\n",
    "For now, everything is aligned by Census tract, so we'll just pull apart the pieces.  Normally, these might come from different data sources where populations and services are in different locations.  "
   ]
  },
  {
   "cell_type": "code",
   "execution_count": 38,
   "metadata": {},
   "outputs": [],
   "source": [
    "il_med = gpd.read_file(\"../examples/il_med/il_med.geojson\").set_index(\"geoid\")"
   ]
  },
  {
   "cell_type": "code",
   "execution_count": 39,
   "metadata": {},
   "outputs": [
    {
     "data": {
      "text/html": [
       "<div>\n",
       "<style scoped>\n",
       "    .dataframe tbody tr th:only-of-type {\n",
       "        vertical-align: middle;\n",
       "    }\n",
       "\n",
       "    .dataframe tbody tr th {\n",
       "        vertical-align: top;\n",
       "    }\n",
       "\n",
       "    .dataframe thead th {\n",
       "        text-align: right;\n",
       "    }\n",
       "</style>\n",
       "<table border=\"1\" class=\"dataframe\">\n",
       "  <thead>\n",
       "    <tr style=\"text-align: right;\">\n",
       "      <th></th>\n",
       "      <th>doc</th>\n",
       "      <th>dentist</th>\n",
       "      <th>pop</th>\n",
       "      <th>geometry</th>\n",
       "    </tr>\n",
       "    <tr>\n",
       "      <th>geoid</th>\n",
       "      <th></th>\n",
       "      <th></th>\n",
       "      <th></th>\n",
       "      <th></th>\n",
       "    </tr>\n",
       "  </thead>\n",
       "  <tbody>\n",
       "    <tr>\n",
       "      <th>17001000100</th>\n",
       "      <td>0</td>\n",
       "      <td>2</td>\n",
       "      <td>4627</td>\n",
       "      <td>POINT (41190.96521215544 368296.2161574106)</td>\n",
       "    </tr>\n",
       "    <tr>\n",
       "      <th>17001000201</th>\n",
       "      <td>0</td>\n",
       "      <td>0</td>\n",
       "      <td>1986</td>\n",
       "      <td>POINT (39069.51353751949 369584.0955003587)</td>\n",
       "    </tr>\n",
       "    <tr>\n",
       "      <th>17001000202</th>\n",
       "      <td>0</td>\n",
       "      <td>0</td>\n",
       "      <td>2999</td>\n",
       "      <td>POINT (39114.95024493745 367995.9409450263)</td>\n",
       "    </tr>\n",
       "    <tr>\n",
       "      <th>17001000400</th>\n",
       "      <td>3</td>\n",
       "      <td>0</td>\n",
       "      <td>4322</td>\n",
       "      <td>POINT (37273.52522412403 368795.8152967723)</td>\n",
       "    </tr>\n",
       "    <tr>\n",
       "      <th>17001000500</th>\n",
       "      <td>10</td>\n",
       "      <td>0</td>\n",
       "      <td>2337</td>\n",
       "      <td>POINT (38120.33621561436 368060.4575544588)</td>\n",
       "    </tr>\n",
       "  </tbody>\n",
       "</table>\n",
       "</div>"
      ],
      "text/plain": [
       "             doc  dentist   pop                                     geometry\n",
       "geoid                                                                       \n",
       "17001000100    0        2  4627  POINT (41190.96521215544 368296.2161574106)\n",
       "17001000201    0        0  1986  POINT (39069.51353751949 369584.0955003587)\n",
       "17001000202    0        0  2999  POINT (39114.95024493745 367995.9409450263)\n",
       "17001000400    3        0  4322  POINT (37273.52522412403 368795.8152967723)\n",
       "17001000500   10        0  2337  POINT (38120.33621561436 368060.4575544588)"
      ]
     },
     "execution_count": 39,
     "metadata": {},
     "output_type": "execute_result"
    }
   ],
   "source": [
    "il_med.head()"
   ]
  },
  {
   "cell_type": "code",
   "execution_count": 40,
   "metadata": {},
   "outputs": [
    {
     "name": "stdout",
     "output_type": "stream",
     "text": [
      "/bin/sh: wget: command not found\r\n"
     ]
    }
   ],
   "source": [
    "#Uncomment to download example network time data.\n",
    "! wget https://saxon.harris.uchicago.edu/~jsaxon/il_fca_data/il_times.csv -O ../examples/il_med/il_times.csv"
   ]
  },
  {
   "cell_type": "markdown",
   "metadata": {},
   "source": [
    "### Load this network distance.\n",
    "\n",
    "The il_times.csv contains geoid fields for the origin and destination tracts and a cost field (number of minutes it takes to travel from origin to destination). See the main site's cost matrix section for hints on downloading lots of travel times like this. "
   ]
  },
  {
   "cell_type": "code",
   "execution_count": 41,
   "metadata": {},
   "outputs": [],
   "source": [
    "times = pd.read_csv(\"../examples/il_med/il_times.csv\").rename(columns = {\"destination\" : \"dest\"})"
   ]
  },
  {
   "cell_type": "code",
   "execution_count": 42,
   "metadata": {},
   "outputs": [
    {
     "data": {
      "text/html": [
       "<div>\n",
       "<style scoped>\n",
       "    .dataframe tbody tr th:only-of-type {\n",
       "        vertical-align: middle;\n",
       "    }\n",
       "\n",
       "    .dataframe tbody tr th {\n",
       "        vertical-align: top;\n",
       "    }\n",
       "\n",
       "    .dataframe thead th {\n",
       "        text-align: right;\n",
       "    }\n",
       "</style>\n",
       "<table border=\"1\" class=\"dataframe\">\n",
       "  <thead>\n",
       "    <tr style=\"text-align: right;\">\n",
       "      <th></th>\n",
       "      <th>origin</th>\n",
       "      <th>dest</th>\n",
       "      <th>cost</th>\n",
       "    </tr>\n",
       "  </thead>\n",
       "  <tbody>\n",
       "    <tr>\n",
       "      <th>0</th>\n",
       "      <td>17001000100</td>\n",
       "      <td>17001000201</td>\n",
       "      <td>11.614100</td>\n",
       "    </tr>\n",
       "    <tr>\n",
       "      <th>1</th>\n",
       "      <td>17001000100</td>\n",
       "      <td>17001000202</td>\n",
       "      <td>9.640357</td>\n",
       "    </tr>\n",
       "    <tr>\n",
       "      <th>2</th>\n",
       "      <td>17001000100</td>\n",
       "      <td>17001000400</td>\n",
       "      <td>13.565972</td>\n",
       "    </tr>\n",
       "    <tr>\n",
       "      <th>3</th>\n",
       "      <td>17001000100</td>\n",
       "      <td>17001000500</td>\n",
       "      <td>11.998176</td>\n",
       "    </tr>\n",
       "    <tr>\n",
       "      <th>4</th>\n",
       "      <td>17001000100</td>\n",
       "      <td>17001000600</td>\n",
       "      <td>8.591976</td>\n",
       "    </tr>\n",
       "  </tbody>\n",
       "</table>\n",
       "</div>"
      ],
      "text/plain": [
       "        origin         dest       cost\n",
       "0  17001000100  17001000201  11.614100\n",
       "1  17001000100  17001000202   9.640357\n",
       "2  17001000100  17001000400  13.565972\n",
       "3  17001000100  17001000500  11.998176\n",
       "4  17001000100  17001000600   8.591976"
      ]
     },
     "execution_count": 42,
     "metadata": {},
     "output_type": "execute_result"
    }
   ],
   "source": [
    "times.head()"
   ]
  },
  {
   "cell_type": "markdown",
   "metadata": {},
   "source": [
    "### Create the access object.\n",
    "\n",
    "Since we have geometries here, it could be as simple as this:"
   ]
  },
  {
   "cell_type": "code",
   "execution_count": 43,
   "metadata": {},
   "outputs": [],
   "source": [
    "A = access(demand_df = il_med[[\"pop\", \"geometry\"]], demand_value = 'pop', \n",
    "           supply_df = il_med[[\"doc\", \"dentist\", \"geometry\"]], supply_value = [\"doc\", \"dentist\"])"
   ]
  },
  {
   "cell_type": "markdown",
   "metadata": {},
   "source": [
    "In this case, we would _have_ to generate the distance matrix on the fly.\n",
    "\n",
    "Instead, I'll create a slightly more complicated version with all of the possible matrices:"
   ]
  },
  {
   "cell_type": "code",
   "execution_count": 44,
   "metadata": {},
   "outputs": [],
   "source": [
    "A = access(demand_df = il_med[[\"pop\", \"geometry\"]], demand_value = 'pop', \n",
    "           supply_df = il_med[[\"doc\", \"dentist\", \"geometry\"]], supply_value = [\"doc\", \"dentist\"], \n",
    "           demand_index = True, supply_index = True,\n",
    "           cost_df   = times,  cost_name = 'cost',\n",
    "           cost_origin = 'origin', cost_dest = 'dest',\n",
    "           neighbor_cost_df = times, neighbor_cost_name = 'cost',\n",
    "           neighbor_cost_origin = 'dest', neighbor_cost_dest = 'origin')"
   ]
  },
  {
   "cell_type": "markdown",
   "metadata": {},
   "source": [
    "### Add an additional distance measure. \n",
    "\n",
    "Now, we can still add a Euclidean distance matrix (this requires projected data).  Note that this is a very costly operation, but you only have to do it once.  `threshold` is the maximum distance that we will consider.  Calculating distances between centroids takes a while but is still faster than computing distances to polygons (crazy expensive, though we've been moderately careful to make it faster)."
   ]
  },
  {
   "cell_type": "code",
   "execution_count": 45,
   "metadata": {},
   "outputs": [],
   "source": [
    "A.euclidean_distance(threshold = 250000, centroid_o = True, centroid_d = True)"
   ]
  },
  {
   "cell_type": "markdown",
   "metadata": {},
   "source": [
    "### Create some weights functions\n",
    "\n",
    "Of course, you don't _have_ to do this, but it's fun to play with different versions of spatial access, esp. E2SFCA."
   ]
  },
  {
   "cell_type": "code",
   "execution_count": 46,
   "metadata": {},
   "outputs": [],
   "source": [
    "# create the weighting function\n",
    "# from stepwise weight dictionaries\n",
    "fn30 = weights.step_fn({10 : 1, 20 : 0.68, 30 : 0.22})\n",
    "fn60 = weights.step_fn({20 : 1, 40 : 0.68, 60 : 0.22})\n",
    "\n",
    "# or gaussian weights.\n",
    "# This could also be done through scipy.stats.norm().pdf, \n",
    "#   but that turns out to be unacceptably slow.\n",
    "gaussian = weights.gaussian(60)\n",
    "\n",
    "# A conventional gravity model is just weighted catchment with gravity weighting.\n",
    "gravity = weights.gravity(scale = 60, alpha = -1)"
   ]
  },
  {
   "cell_type": "markdown",
   "metadata": {},
   "source": [
    "### Ready to roll...\n",
    "\n",
    "* Now just call the access functions.  \n",
    "* Each of these will return the corresponding series, but they are also stored in `A.access_df`.  Check out the documentation for the possible arguments.  \n",
    "* Note that if you call the same function repeatedly, with different arguments, you may want to change the name, to avoid overwriting.\n",
    "* By default, `access` will be calculated for sequential, for all of the supply columns."
   ]
  },
  {
   "cell_type": "code",
   "execution_count": 47,
   "metadata": {},
   "outputs": [
    {
     "name": "stderr",
     "output_type": "stream",
     "text": [
      "access INFO     :: Using default cost, cost, for gravity.\n",
      "access INFO     :: Using default cost, cost, for fca.\n",
      "access INFO     :: Using default cost, cost, for fca.\n",
      "access INFO     :: Using default cost, cost, for fca.\n",
      "access INFO     :: Using default cost, cost, for fca.\n",
      "access INFO     :: Overwriting fca_doc.\n",
      "access INFO     :: Overwriting fca_dentist.\n",
      "access INFO     :: Using default cost, cost, for fca60.\n",
      "access INFO     :: Using default cost, cost, for fca60.\n",
      "access INFO     :: Using default cost, cost, for fca90.\n",
      "access INFO     :: Using default cost, cost, for fca90.\n",
      "access INFO     :: Using default cost, cost, for 2sfca.\n",
      "access INFO     :: Using default cost, cost, for 2sfca30.\n",
      "access INFO     :: Using default cost, cost, for 2sfca60.\n",
      "access INFO     :: Using default cost, cost, for g2sfca.\n",
      "access INFO     :: Using default cost, cost, for 3sfca.\n",
      "access INFO     :: Using default cost, cost, for raam.\n",
      "access INFO     :: Using default cost, cost, for raam30.\n"
     ]
    }
   ],
   "source": [
    "A.weighted_catchment    (name = \"gravity\",  weight_fn = gravity)\n",
    "A.fca_ratio             (name = \"fca\",      max_cost = 15)\n",
    "A.fca_ratio             (name = \"fca\",      max_cost = 30) # Note - the warning -- good!\n",
    "A.fca_ratio             (name = \"fca60\",    max_cost = 60)\n",
    "A.fca_ratio             (name = \"fca90\",    max_cost = 90)\n",
    "A.two_stage_fca         (name = \"2sfca\",    max_cost = 60)\n",
    "A.enhanced_two_stage_fca(name = \"2sfca30\",  weight_fn = fn30)\n",
    "A.enhanced_two_stage_fca(name = \"2sfca60\",  weight_fn = fn60)\n",
    "A.enhanced_two_stage_fca(name = \"g2sfca\",   weight_fn = gaussian)\n",
    "A.three_stage_fca       (name = \"3sfca\")\n",
    "\n",
    "A.raam(name = \"raam\", tau = 60);\n",
    "A.raam(name = \"raam30\", tau = 30);"
   ]
  },
  {
   "cell_type": "markdown",
   "metadata": {},
   "source": [
    "These were all with network travel time, in minutes.  We could also run the calculation with Euclidean distance.  Note that the parameters for the access fucntion will be dramatically different in meters instead of minutes!  Here, RAAM's tau parameter shifts from 60 minutes to 100 km (1e5 meters)."
   ]
  },
  {
   "cell_type": "code",
   "execution_count": 48,
   "metadata": {},
   "outputs": [],
   "source": [
    "A.raam(name = \"raam_euclidean\", tau = 1e5, cost = \"euclidean\");"
   ]
  },
  {
   "cell_type": "markdown",
   "metadata": {},
   "source": [
    "Gosh -- that's lots of access measures!  Let's simplify our life, with just one:"
   ]
  },
  {
   "cell_type": "code",
   "execution_count": 49,
   "metadata": {},
   "outputs": [],
   "source": [
    "A.score(name = \"raam_combo\", col_dict = {\"raam_doc\" : 0.8, \"raam_dentist\" : 0.2});"
   ]
  },
  {
   "cell_type": "markdown",
   "metadata": {},
   "source": [
    "If there were only one cost function available, these logs wouldn't print.\n",
    "\n",
    "If you found all the logs annoying instead of useful, then turn them off:"
   ]
  },
  {
   "cell_type": "code",
   "execution_count": 50,
   "metadata": {},
   "outputs": [],
   "source": [
    "A.log.setLevel(logging.WARNING)"
   ]
  },
  {
   "cell_type": "markdown",
   "metadata": {},
   "source": [
    "### Results time!\n",
    "\n",
    "Let's get the correlations among measures, and plot a few of them..."
   ]
  },
  {
   "cell_type": "code",
   "execution_count": 51,
   "metadata": {},
   "outputs": [
    {
     "data": {
      "text/plain": [
       "Index(['2sfca30_dentist', '2sfca30_doc', '2sfca60_dentist', '2sfca60_doc',\n",
       "       '2sfca_dentist', '2sfca_doc', '3sfca_dentist', '3sfca_doc',\n",
       "       'fca60_dentist', 'fca60_doc', 'fca90_dentist', 'fca90_doc',\n",
       "       'fca_dentist', 'fca_doc', 'g2sfca_dentist', 'g2sfca_doc',\n",
       "       'gravity_dentist', 'gravity_doc', 'raam30_dentist', 'raam30_doc',\n",
       "       'raam_combo', 'raam_dentist', 'raam_doc', 'raam_euclidean_dentist',\n",
       "       'raam_euclidean_doc'],\n",
       "      dtype='object')"
      ]
     },
     "execution_count": 51,
     "metadata": {},
     "output_type": "execute_result"
    }
   ],
   "source": [
    "A.norm_access_df.columns"
   ]
  },
  {
   "cell_type": "code",
   "execution_count": 52,
   "metadata": {},
   "outputs": [
    {
     "data": {
      "text/plain": [
       "raam_doc                  1.000000\n",
       "raam_combo                0.988777\n",
       "raam30_doc                0.971267\n",
       "raam_euclidean_doc        0.918173\n",
       "raam30_dentist            0.839326\n",
       "gravity_doc               0.803273\n",
       "gravity_dentist           0.801074\n",
       "raam_dentist              0.790399\n",
       "2sfca60_dentist           0.782756\n",
       "2sfca60_doc               0.779705\n",
       "3sfca_doc                 0.777999\n",
       "g2sfca_dentist            0.752172\n",
       "2sfca30_doc               0.747478\n",
       "g2sfca_doc                0.730953\n",
       "2sfca30_dentist           0.726784\n",
       "raam_euclidean_dentist    0.721868\n",
       "2sfca_dentist             0.683203\n",
       "3sfca_dentist             0.655556\n",
       "2sfca_doc                 0.627037\n",
       "fca_dentist               0.168248\n",
       "fca_doc                   0.143010\n",
       "fca90_doc                 0.101256\n",
       "fca90_dentist             0.052718\n",
       "fca60_dentist             0.036530\n",
       "fca60_doc                 0.028182\n",
       "Name: raam_doc, dtype: float64"
      ]
     },
     "execution_count": 52,
     "metadata": {},
     "output_type": "execute_result"
    }
   ],
   "source": [
    "A.norm_access_df.corr().raam_doc.abs().sort_values(ascending = False)"
   ]
  },
  {
   "cell_type": "code",
   "execution_count": 53,
   "metadata": {},
   "outputs": [],
   "source": [
    "il_map = il_med[[\"geometry\"]].join(A.norm_access_df, how = \"inner\")\n",
    "\n",
    "def plot(v, swap = False, ax = None, leg = True):\n",
    "    \n",
    "    il_map.plot(v, legend = leg, figsize = (5, 5), cmap = \"viridis\" if swap else \"viridis_r\", \n",
    "                markersize = 1.5, alpha = 0.5, ax = ax,\n",
    "                vmin = il_map[v].quantile(0.05), vmax = il_map[v].quantile(0.95)).set_axis_off()"
   ]
  },
  {
   "cell_type": "markdown",
   "metadata": {},
   "source": [
    "Plotting RAAM for spatial access to doctors from Illinois tracts:"
   ]
  },
  {
   "cell_type": "code",
   "execution_count": 54,
   "metadata": {},
   "outputs": [
    {
     "data": {
      "image/png": "[encoded data removed]",
      "text/plain": [
       "<Figure size 360x360 with 2 Axes>"
      ]
     },
     "metadata": {
      "needs_background": "light"
     },
     "output_type": "display_data"
    }
   ],
   "source": [
    "plot(\"raam_doc\")"
   ]
  },
  {
   "cell_type": "markdown",
   "metadata": {},
   "source": [
    "Plotting 3-Stage Floating Catchment Areas for for spatial access to dentists from Illinois tracts:"
   ]
  },
  {
   "cell_type": "code",
   "execution_count": 55,
   "metadata": {},
   "outputs": [
    {
     "data": {
      "image/png": "[encoded data removed]",
      "text/plain": [
       "<Figure size 360x360 with 2 Axes>"
      ]
     },
     "metadata": {
      "needs_background": "light"
     },
     "output_type": "display_data"
    }
   ],
   "source": [
    "plot(\"3sfca_dentist\", swap = True)"
   ]
  },
  {
   "cell_type": "markdown",
   "metadata": {},
   "source": [
    "Fascinating!  Is it true that the dentist shortage on Chicago's South Side is more acute than for doctors?  This would not be a total shock, since Medicare boosts demand for healthcare but not dental care in poor areas -- and since the University of Chicago Hospital is bigish.  Let's do the apples to apples comparison, with RAAM."
   ]
  },
  {
   "cell_type": "markdown",
   "metadata": {},
   "source": [
    "From left to right, maps of RAAM for doctors, dentists and both:"
   ]
  },
  {
   "cell_type": "code",
   "execution_count": 56,
   "metadata": {},
   "outputs": [
    {
     "ename": "NameError",
     "evalue": "name 'plt' is not defined",
     "output_type": "error",
     "traceback": [
      "\u001b[0;31m---------------------------------------------------------------------------\u001b[0m",
      "\u001b[0;31mNameError\u001b[0m                                 Traceback (most recent call last)",
      "\u001b[0;32m<ipython-input-56-e9215b293294>\u001b[0m in \u001b[0;36m<module>\u001b[0;34m\u001b[0m\n\u001b[0;32m----> 1\u001b[0;31m \u001b[0mfig\u001b[0m\u001b[0;34m,\u001b[0m \u001b[0max\u001b[0m \u001b[0;34m=\u001b[0m \u001b[0mplt\u001b[0m\u001b[0;34m.\u001b[0m\u001b[0msubplots\u001b[0m\u001b[0;34m(\u001b[0m\u001b[0;36m1\u001b[0m\u001b[0;34m,\u001b[0m \u001b[0;36m3\u001b[0m\u001b[0;34m,\u001b[0m \u001b[0msubplot_kw\u001b[0m \u001b[0;34m=\u001b[0m \u001b[0;34m{\u001b[0m\u001b[0;34m\"aspect\"\u001b[0m \u001b[0;34m:\u001b[0m \u001b[0;34m\"equal\"\u001b[0m\u001b[0;34m}\u001b[0m\u001b[0;34m)\u001b[0m\u001b[0;34m\u001b[0m\u001b[0;34m\u001b[0m\u001b[0m\n\u001b[0m\u001b[1;32m      2\u001b[0m \u001b[0;32mfor\u001b[0m \u001b[0maxi\u001b[0m \u001b[0;32min\u001b[0m \u001b[0max\u001b[0m\u001b[0;34m:\u001b[0m \u001b[0maxi\u001b[0m\u001b[0;34m.\u001b[0m\u001b[0mset_axis_off\u001b[0m\u001b[0;34m(\u001b[0m\u001b[0;34m)\u001b[0m\u001b[0;34m\u001b[0m\u001b[0;34m\u001b[0m\u001b[0m\n\u001b[1;32m      3\u001b[0m \u001b[0;34m\u001b[0m\u001b[0m\n\u001b[1;32m      4\u001b[0m \u001b[0mplot\u001b[0m\u001b[0;34m(\u001b[0m\u001b[0;34m\"raam_doc\"\u001b[0m\u001b[0;34m,\u001b[0m     \u001b[0max\u001b[0m \u001b[0;34m=\u001b[0m \u001b[0max\u001b[0m\u001b[0;34m[\u001b[0m\u001b[0;36m0\u001b[0m\u001b[0;34m]\u001b[0m\u001b[0;34m,\u001b[0m \u001b[0mleg\u001b[0m \u001b[0;34m=\u001b[0m \u001b[0;32mFalse\u001b[0m\u001b[0;34m)\u001b[0m\u001b[0;34m\u001b[0m\u001b[0;34m\u001b[0m\u001b[0m\n\u001b[1;32m      5\u001b[0m \u001b[0mplot\u001b[0m\u001b[0;34m(\u001b[0m\u001b[0;34m\"raam_dentist\"\u001b[0m\u001b[0;34m,\u001b[0m \u001b[0max\u001b[0m \u001b[0;34m=\u001b[0m \u001b[0max\u001b[0m\u001b[0;34m[\u001b[0m\u001b[0;36m1\u001b[0m\u001b[0;34m]\u001b[0m\u001b[0;34m,\u001b[0m \u001b[0mleg\u001b[0m \u001b[0;34m=\u001b[0m \u001b[0;32mFalse\u001b[0m\u001b[0;34m)\u001b[0m\u001b[0;34m\u001b[0m\u001b[0;34m\u001b[0m\u001b[0m\n",
      "\u001b[0;31mNameError\u001b[0m: name 'plt' is not defined"
     ]
    }
   ],
   "source": [
    "fig, ax = plt.subplots(1, 3, subplot_kw = {\"aspect\" : \"equal\"})\n",
    "for axi in ax: axi.set_axis_off()\n",
    "\n",
    "plot(\"raam_doc\",     ax = ax[0], leg = False)\n",
    "plot(\"raam_dentist\", ax = ax[1], leg = False)\n",
    "plot(\"raam_combo\",   ax = ax[2], leg = False)"
   ]
  },
  {
   "cell_type": "markdown",
   "metadata": {},
   "source": [
    "Seems to be the case..."
   ]
  },
  {
   "cell_type": "markdown",
   "metadata": {},
   "source": [
    "Now you can save all model results to a csv file (same directory as input data):"
   ]
  },
  {
   "cell_type": "code",
   "execution_count": 57,
   "metadata": {},
   "outputs": [],
   "source": [
    "A.norm_access_df.to_csv('../examples/il_med/results.csv')"
   ]
  },
  {
   "cell_type": "markdown",
   "metadata": {},
   "source": [
    "Gravity works too (here for doctors).  Not really appropriate in this case, since there is fixed supply."
   ]
  },
  {
   "cell_type": "code",
   "execution_count": null,
   "metadata": {},
   "outputs": [],
   "source": [
    "v = \"gravity_doc\"\n",
    "il_map.plot(v, legend = True, figsize = (5, 5), cmap = \"viridis\", markersize = 1.5, alpha = 0.5,\n",
    "            vmin = il_map[v].quantile(0.05), vmax = il_map[v].quantile(0.95)).set_axis_off()"
   ]
  },
  {
   "cell_type": "code",
   "execution_count": null,
   "metadata": {},
   "outputs": [],
   "source": []
  }
 ],
 "metadata": {
  "kernelspec": {
   "display_name": "Python 3",
   "language": "python",
   "name": "python3"
  },
  "language_info": {
   "codemirror_mode": {
    "name": "ipython",
    "version": 3
   },
   "file_extension": ".py",
   "mimetype": "text/x-python",
   "name": "python",
   "nbconvert_exporter": "python",
   "pygments_lexer": "ipython3",
   "version": "3.7.4"
  }
 },
 "nbformat": 4,
 "nbformat_minor": 2
}
